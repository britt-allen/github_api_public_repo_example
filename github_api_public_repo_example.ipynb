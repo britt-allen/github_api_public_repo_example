{
  "nbformat": 4,
  "nbformat_minor": 0,
  "metadata": {
    "colab": {
      "name": "github_api_public_repo_example.ipynb",
      "provenance": [],
      "collapsed_sections": []
    },
    "kernelspec": {
      "name": "python3",
      "display_name": "Python 3"
    }
  },
  "cells": [
    {
      "cell_type": "code",
      "metadata": {
        "id": "8RN7trNeBVL-",
        "colab_type": "code",
        "colab": {}
      },
      "source": [
        "import requests  #importing the requests library so I can make an HTTP request"
      ],
      "execution_count": 0,
      "outputs": []
    },
    {
      "cell_type": "code",
      "metadata": {
        "id": "n4w1zAnHBwAf",
        "colab_type": "code",
        "colab": {}
      },
      "source": [
        "response = requests.get('https://api.github.com/users/traintestbritt/repos')  #creating a response object to store the data from my url\n",
        "data = response.json()  #creating a new variable 'data' that represents my response object data in JSON format"
      ],
      "execution_count": 0,
      "outputs": []
    },
    {
      "cell_type": "code",
      "metadata": {
        "id": "MC_NU8nuDw1I",
        "colab_type": "code",
        "colab": {}
      },
      "source": [
        "# data\n",
        "#I printed out \"data\" so I could understand its key:value pairs and find which keys I needed to access the dictionary within the list\n",
        "#I've commented out data as it has a huge printout and I want to avoid clogging my notebook"
      ],
      "execution_count": 0,
      "outputs": []
    },
    {
      "cell_type": "code",
      "metadata": {
        "id": "u4SDBFhpD0gy",
        "colab_type": "code",
        "colab": {
          "base_uri": "https://localhost:8080/",
          "height": 187
        },
        "outputId": "0f3a4d24-e5bc-4016-ac79-ba5b63d89055"
      },
      "source": [
        "for i in range(len(data)):  # looping through the length of my data object\n",
        "  print(data[i]['name'])    # accessing my data object with keys to get my desired values and printing them\n",
        "\n",
        "print(f'\\nThe user at {data[0][\"owner\"][\"html_url\"]} has {len(data)} public repositories.')  \n",
        "#printing additional and potentially helpful information about where these repos originated and how many there are"
      ],
      "execution_count": 4,
      "outputs": [
        {
          "output_type": "stream",
          "text": [
            "capstone_term_deposit_predictions\n",
            "classifying_reddit_posts\n",
            "ds-reg-int\n",
            "ecfr_xml_parsing\n",
            "estimating_affluence_with_yelp_data\n",
            "excel_to_pandas\n",
            "predicting_house_prices\n",
            "traintestbritt.github.io\n",
            "\n",
            "The user at https://github.com/traintestbritt has 8 public repositories.\n"
          ],
          "name": "stdout"
        }
      ]
    },
    {
      "cell_type": "code",
      "metadata": {
        "id": "qp-yXsaqD4Ai",
        "colab_type": "code",
        "colab": {}
      },
      "source": [
        ""
      ],
      "execution_count": 0,
      "outputs": []
    }
  ]
}